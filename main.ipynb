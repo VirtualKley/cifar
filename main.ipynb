{
 "cells": [
  {
   "cell_type": "code",
   "execution_count": 34,
   "metadata": {},
   "outputs": [],
   "source": [
    "from keras.datasets import cifar100\n",
    "from keras.utils import layer_utils, np_utils\n",
    "from keras.layers import Dense, Flatten\n",
    "from keras.models import Sequential\n",
    "import matplotlib.pyplot as plt\n",
    "import keras.backend as K\n",
    "import numpy as np\n",
    "import pickle"
   ]
  },
  {
   "cell_type": "code",
   "execution_count": 3,
   "metadata": {},
   "outputs": [],
   "source": [
    "(x_train_original, y_train_original), (x_test_original, y_test_original) = cifar100.load_data(label_mode='fine')"
   ]
  },
  {
   "cell_type": "code",
   "execution_count": 4,
   "metadata": {},
   "outputs": [],
   "source": [
    "y_train = np_utils.to_categorical(y_train_original, 100)\n",
    "y_test = np_utils.to_categorical(y_test_original, 100)"
   ]
  },
  {
   "cell_type": "code",
   "execution_count": 5,
   "metadata": {},
   "outputs": [
    {
     "data": {
      "text/plain": [
       "array([[[[255, 255, 255],\n",
       "         [255, 255, 255],\n",
       "         [255, 255, 255],\n",
       "         ...,\n",
       "         [195, 205, 193],\n",
       "         [212, 224, 204],\n",
       "         [182, 194, 167]],\n",
       "\n",
       "        [[255, 255, 255],\n",
       "         [254, 254, 254],\n",
       "         [254, 254, 254],\n",
       "         ...,\n",
       "         [170, 176, 150],\n",
       "         [161, 168, 130],\n",
       "         [146, 154, 113]],\n",
       "\n",
       "        [[255, 255, 255],\n",
       "         [254, 254, 254],\n",
       "         [255, 255, 255],\n",
       "         ...,\n",
       "         [189, 199, 169],\n",
       "         [166, 178, 130],\n",
       "         [121, 133,  87]],\n",
       "\n",
       "        ...,\n",
       "\n",
       "        [[148, 185,  79],\n",
       "         [142, 182,  57],\n",
       "         [140, 179,  60],\n",
       "         ...,\n",
       "         [ 30,  17,   1],\n",
       "         [ 65,  62,  15],\n",
       "         [ 76,  77,  20]],\n",
       "\n",
       "        [[122, 157,  66],\n",
       "         [120, 155,  58],\n",
       "         [126, 160,  71],\n",
       "         ...,\n",
       "         [ 22,  16,   3],\n",
       "         [ 97, 112,  56],\n",
       "         [141, 161,  87]],\n",
       "\n",
       "        [[ 87, 122,  41],\n",
       "         [ 88, 122,  39],\n",
       "         [101, 134,  56],\n",
       "         ...,\n",
       "         [ 34,  36,  10],\n",
       "         [105, 133,  59],\n",
       "         [138, 173,  79]]],\n",
       "\n",
       "\n",
       "       [[[255, 255, 255],\n",
       "         [253, 253, 253],\n",
       "         [253, 253, 253],\n",
       "         ...,\n",
       "         [253, 253, 253],\n",
       "         [253, 253, 253],\n",
       "         [255, 255, 255]],\n",
       "\n",
       "        [[255, 255, 255],\n",
       "         [255, 255, 255],\n",
       "         [255, 255, 255],\n",
       "         ...,\n",
       "         [255, 255, 255],\n",
       "         [255, 255, 255],\n",
       "         [255, 255, 255]],\n",
       "\n",
       "        [[255, 255, 255],\n",
       "         [255, 255, 255],\n",
       "         [255, 255, 255],\n",
       "         ...,\n",
       "         [255, 255, 255],\n",
       "         [255, 255, 255],\n",
       "         [255, 255, 255]],\n",
       "\n",
       "        ...,\n",
       "\n",
       "        [[255, 255, 255],\n",
       "         [255, 255, 255],\n",
       "         [255, 255, 255],\n",
       "         ...,\n",
       "         [255, 255, 255],\n",
       "         [255, 255, 255],\n",
       "         [255, 255, 255]],\n",
       "\n",
       "        [[255, 255, 255],\n",
       "         [255, 255, 255],\n",
       "         [255, 255, 255],\n",
       "         ...,\n",
       "         [255, 255, 255],\n",
       "         [255, 255, 255],\n",
       "         [255, 255, 255]],\n",
       "\n",
       "        [[255, 255, 255],\n",
       "         [253, 253, 253],\n",
       "         [253, 253, 253],\n",
       "         ...,\n",
       "         [253, 253, 253],\n",
       "         [253, 253, 253],\n",
       "         [255, 255, 255]]],\n",
       "\n",
       "\n",
       "       [[[250, 250, 248],\n",
       "         [248, 249, 243],\n",
       "         [247, 248, 239],\n",
       "         ...,\n",
       "         [250, 250, 246],\n",
       "         [250, 250, 246],\n",
       "         [249, 250, 246]],\n",
       "\n",
       "        [[250, 251, 245],\n",
       "         [248, 249, 238],\n",
       "         [247, 247, 234],\n",
       "         ...,\n",
       "         [251, 251, 242],\n",
       "         [251, 252, 243],\n",
       "         [250, 251, 243]],\n",
       "\n",
       "        [[251, 251, 244],\n",
       "         [250, 248, 237],\n",
       "         [250, 245, 233],\n",
       "         ...,\n",
       "         [250, 249, 238],\n",
       "         [250, 249, 240],\n",
       "         [250, 249, 242]],\n",
       "\n",
       "        ...,\n",
       "\n",
       "        [[221, 213, 191],\n",
       "         [221, 206, 176],\n",
       "         [225, 207, 181],\n",
       "         ...,\n",
       "         [199, 176, 134],\n",
       "         [207, 193, 165],\n",
       "         [233, 229, 226]],\n",
       "\n",
       "        [[225, 223, 204],\n",
       "         [227, 219, 196],\n",
       "         [229, 216, 200],\n",
       "         ...,\n",
       "         [204, 185, 151],\n",
       "         [212, 201, 180],\n",
       "         [234, 232, 228]],\n",
       "\n",
       "        [[233, 233, 226],\n",
       "         [234, 232, 224],\n",
       "         [235, 230, 225],\n",
       "         ...,\n",
       "         [219, 209, 194],\n",
       "         [223, 216, 207],\n",
       "         [232, 230, 228]]],\n",
       "\n",
       "\n",
       "       ...,\n",
       "\n",
       "\n",
       "       [[[248, 244, 242],\n",
       "         [240, 232, 223],\n",
       "         [236, 232, 223],\n",
       "         ...,\n",
       "         [233, 229, 222],\n",
       "         [230, 228, 222],\n",
       "         [238, 237, 233]],\n",
       "\n",
       "        [[225, 213, 204],\n",
       "         [186, 167, 149],\n",
       "         [175, 159, 140],\n",
       "         ...,\n",
       "         [163, 148, 134],\n",
       "         [156, 144, 133],\n",
       "         [192, 184, 176]],\n",
       "\n",
       "        [[209, 194, 179],\n",
       "         [144, 120,  95],\n",
       "         [139, 115,  87],\n",
       "         ...,\n",
       "         [109,  86,  67],\n",
       "         [109,  90,  76],\n",
       "         [157, 145, 135]],\n",
       "\n",
       "        ...,\n",
       "\n",
       "        [[161, 159, 153],\n",
       "         [ 39,  34,  28],\n",
       "         [ 28,  20,  14],\n",
       "         ...,\n",
       "         [ 93,  72,  53],\n",
       "         [ 85,  67,  50],\n",
       "         [136, 126, 115]],\n",
       "\n",
       "        [[181, 179, 172],\n",
       "         [ 86,  83,  77],\n",
       "         [ 71,  68,  62],\n",
       "         ...,\n",
       "         [122, 103,  89],\n",
       "         [105,  92,  82],\n",
       "         [151, 145, 141]],\n",
       "\n",
       "        [[224, 223, 218],\n",
       "         [180, 180, 175],\n",
       "         [173, 172, 167],\n",
       "         ...,\n",
       "         [196, 187, 180],\n",
       "         [183, 178, 174],\n",
       "         [204, 205, 205]]],\n",
       "\n",
       "\n",
       "       [[[156, 154, 137],\n",
       "         [151, 146, 123],\n",
       "         [151, 144, 125],\n",
       "         ...,\n",
       "         [155, 150, 129],\n",
       "         [152, 148, 125],\n",
       "         [186, 184, 163]],\n",
       "\n",
       "        [[110, 106,  77],\n",
       "         [116, 108,  62],\n",
       "         [114, 101,  57],\n",
       "         ...,\n",
       "         [116, 106,  61],\n",
       "         [111, 103,  56],\n",
       "         [134, 129,  92]],\n",
       "\n",
       "        [[116, 112,  82],\n",
       "         [124, 118,  66],\n",
       "         [128, 118,  67],\n",
       "         ...,\n",
       "         [ 99,  84,  43],\n",
       "         [101,  87,  43],\n",
       "         [129, 118,  86]],\n",
       "\n",
       "        ...,\n",
       "\n",
       "        [[109, 101,  74],\n",
       "         [112, 100,  54],\n",
       "         [118, 105,  62],\n",
       "         ...,\n",
       "         [126, 113,  65],\n",
       "         [126, 111,  61],\n",
       "         [138, 124,  89]],\n",
       "\n",
       "        [[ 98,  92,  63],\n",
       "         [ 93,  82,  35],\n",
       "         [ 96,  83,  38],\n",
       "         ...,\n",
       "         [112,  96,  47],\n",
       "         [109,  92,  45],\n",
       "         [127, 113,  80]],\n",
       "\n",
       "        [[170, 167, 145],\n",
       "         [160, 153, 118],\n",
       "         [163, 152, 119],\n",
       "         ...,\n",
       "         [161, 151, 114],\n",
       "         [156, 144, 107],\n",
       "         [163, 154, 126]]],\n",
       "\n",
       "\n",
       "       [[[ 31,  67, 122],\n",
       "         [ 30,  68, 124],\n",
       "         [ 31,  69, 126],\n",
       "         ...,\n",
       "         [ 32,  70, 129],\n",
       "         [ 32,  70, 125],\n",
       "         [ 32,  69, 122]],\n",
       "\n",
       "        [[ 29,  68, 126],\n",
       "         [ 28,  69, 128],\n",
       "         [ 30,  69, 130],\n",
       "         ...,\n",
       "         [ 32,  70, 131],\n",
       "         [ 32,  69, 127],\n",
       "         [ 31,  69, 124]],\n",
       "\n",
       "        [[ 30,  67, 126],\n",
       "         [ 29,  68, 128],\n",
       "         [ 30,  69, 130],\n",
       "         ...,\n",
       "         [ 32,  72, 132],\n",
       "         [ 31,  70, 130],\n",
       "         [ 30,  69, 127]],\n",
       "\n",
       "        ...,\n",
       "\n",
       "        [[ 39,  41,  76],\n",
       "         [ 38,  42,  76],\n",
       "         [ 38,  44,  78],\n",
       "         ...,\n",
       "         [ 39,  44,  79],\n",
       "         [ 38,  42,  77],\n",
       "         [ 39,  41,  76]],\n",
       "\n",
       "        [[ 40,  39,  73],\n",
       "         [ 39,  40,  74],\n",
       "         [ 39,  41,  76],\n",
       "         ...,\n",
       "         [ 39,  41,  76],\n",
       "         [ 40,  41,  74],\n",
       "         [ 40,  39,  73]],\n",
       "\n",
       "        [[ 40,  39,  70],\n",
       "         [ 40,  39,  71],\n",
       "         [ 40,  39,  72],\n",
       "         ...,\n",
       "         [ 41,  38,  72],\n",
       "         [ 39,  38,  69],\n",
       "         [ 40,  37,  67]]]], dtype=uint8)"
      ]
     },
     "execution_count": 5,
     "metadata": {},
     "output_type": "execute_result"
    }
   ],
   "source": [
    "x_train_original"
   ]
  },
  {
   "cell_type": "code",
   "execution_count": 6,
   "metadata": {},
   "outputs": [
    {
     "data": {
      "image/png": "[encoded data removed]",
      "text/plain": [
       "<Figure size 432x288 with 1 Axes>"
      ]
     },
     "metadata": {
      "needs_background": "light"
     },
     "output_type": "display_data"
    }
   ],
   "source": [
    "imgplot = plt.imshow(x_train_original[0])\n",
    "plt.show()"
   ]
  },
  {
   "cell_type": "markdown",
   "metadata": {},
   "source": [
    "<h1>Traducir las imagenes</h1>\n",
    "<p>Las imagenes se presentan en una escala RGB que es con lo que se encuentra las matrices se las debe reducir a una escala de entre 1 y 0 para lo cual se debe dividir para 255 que es el maximo de valores dentro de la matriz y que en colores representaria el blanco</p>"
   ]
  },
  {
   "cell_type": "code",
   "execution_count": 7,
   "metadata": {},
   "outputs": [],
   "source": [
    "x_train = x_train_original/255\n",
    "x_test = x_test_original/255"
   ]
  },
  {
   "cell_type": "markdown",
   "metadata": {},
   "source": [
    "<h1>Diseñando el terreno</h1>\n",
    "<p> A continuacion con keras se intenta especificar donde se encuentra los canales y dado a que existe un array de imagenes, los canales pueden venir en el primero como en la ultima parte, por lo que definire en el final</p>"
   ]
  },
  {
   "cell_type": "code",
   "execution_count": 8,
   "metadata": {},
   "outputs": [],
   "source": [
    "K.set_image_data_format('channels_last')"
   ]
  },
  {
   "cell_type": "markdown",
   "metadata": {},
   "source": [
    "<p>Luego se explica la fase en la que se encontrara el entrenamiento</p>"
   ]
  },
  {
   "cell_type": "code",
   "execution_count": 9,
   "metadata": {},
   "outputs": [],
   "source": [
    "K.set_learning_phase(1)"
   ]
  },
  {
   "cell_type": "markdown",
   "metadata": {},
   "source": [
    "<h1>Creacion de la red neuronal</h1>\n",
    "<p>La red neuronal constara de 2 capas ocultas las cuales:</p>\n",
    "1. La primera capa (entrada) consta la funcion 'Flatten' la cual permite convertir una matriz de imagen a un vector plano para el ahorramiento de proceso<br>\n",
    "2. La segunda capa constara de 1000 neuronas la cual se maneja la funcion de activacion 'RELU' el cual su resultado procede desde 0 hasta Z que es puede ser cualquier numero positivo sin tener un limite<br>\n",
    "3. La tercera capa funciona bajo los mismos parametros de la segunda solo que con la leve diferencia que esta consta de 500 neuronas para su procesamiento<br>\n",
    "4. La cuarta entrada funciona bajo 100 neuronas las cuales tienen como función de activacion 'SOFTMAX' el cual se encarga de dar un resultado de dar un resultado el cual se encuentra entre 0 a 1 respectivamente para despues ser manejado como probabilidad<br>"
   ]
  },
  {
   "cell_type": "code",
   "execution_count": 10,
   "metadata": {},
   "outputs": [],
   "source": [
    "def create_simple_nn():\n",
    "    model = Sequential()\n",
    "    model.add(Flatten(input_shape=(32,32,3), name='Input_layer'))\n",
    "    model.add(Dense(1000, activation='relu', name='Hidden_layer_1'))\n",
    "    model.add(Dense(500, activation='relu', name='Hidden_layer_2'))\n",
    "    model.add(Dense(100, activation='softmax', name='Output_layer'))\n",
    "    return model"
   ]
  },
  {
   "cell_type": "markdown",
   "metadata": {},
   "source": [
    "<h1>Compilacion del modelo</h1>\n",
    "<p>Para la compilacion se necesitaran de 3 parametros los cuales son:</p>\n",
    "1. La funcion de optimizacion la cual se basa en descenso por gradiente estocastico <br>\n",
    "2. La funcion de perdida la cual va ser la 'entropia cruzada' la cual se encarga de elegir a traves de la funcion 'softmax' cual contiene la mayor probabilidad de estas<br>\n",
    "3. Y en metricas se tendra lo que es la taza de acciertos y la media de errores cuadrados para ser analizada<br>"
   ]
  },
  {
   "cell_type": "code",
   "execution_count": 11,
   "metadata": {},
   "outputs": [
    {
     "name": "stdout",
     "output_type": "stream",
     "text": [
      "WARNING:tensorflow:From E:\\Anaconda3\\envs\\Ambiente\\lib\\site-packages\\tensorflow\\python\\framework\\op_def_library.py:263: colocate_with (from tensorflow.python.framework.ops) is deprecated and will be removed in a future version.\n",
      "Instructions for updating:\n",
      "Colocations handled automatically by placer.\n"
     ]
    }
   ],
   "source": [
    "snn_model = create_simple_nn()\n",
    "snn_model.compile(loss='categorical_crossentropy', optimizer='sgd', metrics=['acc','mse'])"
   ]
  },
  {
   "cell_type": "markdown",
   "metadata": {},
   "source": [
    "<h1>Obtencion de resultados</h1>\n",
    "<p>Para mostrar como se encuentra compuesta la red neuronal se usa bajo la norma 'SUMMARY()'</p>"
   ]
  },
  {
   "cell_type": "code",
   "execution_count": 12,
   "metadata": {},
   "outputs": [
    {
     "name": "stdout",
     "output_type": "stream",
     "text": [
      "_________________________________________________________________\n",
      "Layer (type)                 Output Shape              Param #   \n",
      "=================================================================\n",
      "Input_layer (Flatten)        (None, 3072)              0         \n",
      "_________________________________________________________________\n",
      "Hidden_layer_1 (Dense)       (None, 1000)              3073000   \n",
      "_________________________________________________________________\n",
      "Hidden_layer_2 (Dense)       (None, 500)               500500    \n",
      "_________________________________________________________________\n",
      "Output_layer (Dense)         (None, 100)               50100     \n",
      "=================================================================\n",
      "Total params: 3,623,600\n",
      "Trainable params: 3,623,600\n",
      "Non-trainable params: 0\n",
      "_________________________________________________________________\n"
     ]
    }
   ],
   "source": [
    "snn_model.summary()"
   ]
  },
  {
   "cell_type": "markdown",
   "metadata": {},
   "source": [
    "<h1>Entrenamiento de la red</h1>\n",
    "<p>En esta etapa se realizan dos partes a la vez ya que la funcion 'FIT' permite el ingreso tanto de los datos para entrenamiento como para validacion y para su entrenamiento comenzara con 3 millones de parametros.</p><br>\n",
    "<p>El parametro 'shuffle' permite que los datos sean mezclado aleatoriamente en cada epoca</p>"
   ]
  },
  {
   "cell_type": "code",
   "execution_count": 13,
   "metadata": {},
   "outputs": [
    {
     "name": "stdout",
     "output_type": "stream",
     "text": [
      "WARNING:tensorflow:From E:\\Anaconda3\\envs\\Ambiente\\lib\\site-packages\\tensorflow\\python\\ops\\math_ops.py:3066: to_int32 (from tensorflow.python.ops.math_ops) is deprecated and will be removed in a future version.\n",
      "Instructions for updating:\n",
      "Use tf.cast instead.\n",
      "Train on 50000 samples, validate on 10000 samples\n",
      "Epoch 1/10\n",
      "50000/50000 [==============================] - 287s 6ms/step - loss: 4.1831 - acc: 0.0716 - mean_squared_error: 0.0097 - val_loss: 3.9451 - val_acc: 0.1015 - val_mean_squared_error: 0.0096\n",
      "Epoch 2/10\n",
      "50000/50000 [==============================] - 285s 6ms/step - loss: 3.8016 - acc: 0.1318 - mean_squared_error: 0.0095 - val_loss: 3.7636 - val_acc: 0.1322 - val_mean_squared_error: 0.00955s - loss\n",
      "Epoch 3/10\n",
      "50000/50000 [==============================] - 279s 6ms/step - loss: 3.6399 - acc: 0.1575 - mean_squared_error: 0.0093 - val_loss: 3.6549 - val_acc: 0.1471 - val_mean_squared_error: 0.0093\n",
      "Epoch 4/10\n",
      "50000/50000 [==============================] - 276s 6ms/step - loss: 3.5381 - acc: 0.1768 - mean_squared_error: 0.0092 - val_loss: 3.6147 - val_acc: 0.1620 - val_mean_squared_error: 0.0093\n",
      "Epoch 5/10\n",
      "50000/50000 [==============================] - 278s 6ms/step - loss: 3.4546 - acc: 0.1910 - mean_squared_error: 0.0091 - val_loss: 3.5214 - val_acc: 0.1762 - val_mean_squared_error: 0.0092\n",
      "Epoch 6/10\n",
      "50000/50000 [==============================] - 278s 6ms/step - loss: 3.3810 - acc: 0.2052 - mean_squared_error: 0.0090 - val_loss: 3.4778 - val_acc: 0.1914 - val_mean_squared_error: 0.0091\n",
      "Epoch 7/10\n",
      "50000/50000 [==============================] - 286s 6ms/step - loss: 3.3169 - acc: 0.2159 - mean_squared_error: 0.0090 - val_loss: 3.4338 - val_acc: 0.1922 - val_mean_squared_error: 0.0091\n",
      "Epoch 8/10\n",
      "50000/50000 [==============================] - 288s 6ms/step - loss: 3.2561 - acc: 0.2255 - mean_squared_error: 0.0089 - val_loss: 3.3773 - val_acc: 0.2105 - val_mean_squared_error: 0.0090 - acc: 0.2261 - mean - ETA: 41s - loss: 3.2555 - acc: 0.2260 - mean_squared_error: 0.0 - ETA: 16s - loss: 3.2561 - acc: 0.2255 - me - ETA: 12s - loss: 3.2569 - acc: 0.2254 - mean_squared_ - ETA: 9s - loss: 3.2558 - acc: 0.2257 - mean_sq - ETA: 8s - loss: 3.2555 - acc: 0.2255 - \n",
      "Epoch 9/10\n",
      "50000/50000 [==============================] - 282s 6ms/step - loss: 3.1977 - acc: 0.2379 - mean_squared_error: 0.0088 - val_loss: 3.4127 - val_acc: 0.2027 - val_mean_squared_error: 0.0090\n",
      "Epoch 10/10\n",
      "50000/50000 [==============================] - 281s 6ms/step - loss: 3.1508 - acc: 0.2457 - mean_squared_error: 0.0087 - val_loss: 3.3480 - val_acc: 0.2085 - val_mean_squared_error: 0.0089\n"
     ]
    }
   ],
   "source": [
    "snn = snn_model.fit(x=x_train, y=y_train, batch_size=32, epochs=10, verbose=1, validation_data=(x_test, y_test), shuffle=True)"
   ]
  },
  {
   "cell_type": "markdown",
   "metadata": {},
   "source": [
    "<h1>Validación</h1>\n",
    "<p>Con la red entrenada por los ejemplos dados es posible enfrentar frente a otro dataset que tenga los mismos atributos pero una de las tecnicas es que antes de comenzar a probar con nuevos modelos lo fundamental es que la data se divida en dos campos por lo cual ahora se usara el 10% de los datos para su validacion que es un total de 10000, para luego ser probada con un dataset nuevo con los mismos atributos</p>"
   ]
  },
  {
   "cell_type": "code",
   "execution_count": 14,
   "metadata": {},
   "outputs": [
    {
     "name": "stdout",
     "output_type": "stream",
     "text": [
      "10000/10000 [==============================] - 19s 2ms/step\n"
     ]
    }
   ],
   "source": [
    "evaluation = snn_model.evaluate(x=x_test, y=y_test, batch_size=32, verbose=1)"
   ]
  },
  {
   "cell_type": "markdown",
   "metadata": {},
   "source": [
    "<h1>Mostracion de resultados</h1>\n",
    "<p>A continuacion se muestra las diferentes graficas de como el modelo ha ido \"aprendiendo\" en cuestion a como pasa por las iteraciones y epocas. La perdida debe ser la mas baja para que el modelo pueda predecir un resultado correcto</p>"
   ]
  },
  {
   "cell_type": "code",
   "execution_count": 15,
   "metadata": {},
   "outputs": [
    {
     "data": {
      "image/png": "[encoded data removed]",
      "text/plain": [
       "<Figure size 432x288 with 1 Axes>"
      ]
     },
     "metadata": {
      "needs_background": "light"
     },
     "output_type": "display_data"
    }
   ],
   "source": [
    "plt.figure(0)\n",
    "plt.plot(snn.history['loss'],'r')\n",
    "plt.xlabel('Numero de epocas')\n",
    "plt.ylabel('Perdida')\n",
    "plt.title('Perdida vs Num. de epocas')\n",
    "plt.show()"
   ]
  },
  {
   "cell_type": "markdown",
   "metadata": {},
   "source": [
    "<h1>Obteniendo resultados</h1>\n",
    "<p>A continuacion se demostrara a traves de una sola imagen si es capaz de reconocer a que tipo de etiqueta pertenece, en este caso se utilizara la funcion 'predict' que se basa en la toma de una sola imagene para pasarla por la red neuronal y luego como arroja un total de 100 resultados distintos la funcion 'argmax' de numpy permite devolver el numero mayor que existe dentro de vectores que se encuentran alojados en matrices</p>"
   ]
  },
  {
   "cell_type": "code",
   "execution_count": 16,
   "metadata": {},
   "outputs": [
    {
     "name": "stdout",
     "output_type": "stream",
     "text": [
      "10000/10000 [==============================] - 20s 2ms/step\n"
     ]
    }
   ],
   "source": [
    "snn_pred = snn_model.predict(x_test, batch_size=32, verbose=1)"
   ]
  },
  {
   "cell_type": "code",
   "execution_count": 19,
   "metadata": {},
   "outputs": [],
   "source": [
    "snn_predicted = np.argmax(snn_pred, axis=1)"
   ]
  },
  {
   "cell_type": "markdown",
   "metadata": {},
   "source": [
    "<h1>Resultados</h1>\n",
    "<p>Se mostraran los resultados usando los valores de 'y_test' para corroborar que los datos se encuentran bien en cuestion de resultados</p>"
   ]
  },
  {
   "cell_type": "code",
   "execution_count": 60,
   "metadata": {},
   "outputs": [
    {
     "data": {
      "image/png": "[encoded data removed]",
      "text/plain": [
       "<Figure size 432x288 with 1 Axes>"
      ]
     },
     "metadata": {
      "needs_background": "light"
     },
     "output_type": "display_data"
    },
    {
     "name": "stdout",
     "output_type": "stream",
     "text": [
      "Clase de la imagen 0: 49\n",
      "Prediccion:         49\n"
     ]
    }
   ],
   "source": [
    "imgplot = plt.imshow(x_train_original[0])\n",
    "plt.show()\n",
    "print('Clase de la imagen {}: '.format(0) + str(np.argmax(y_test[0])))  \n",
    "print('Prediccion:         ' + str(snn_predicted[0])) "
   ]
  },
  {
   "cell_type": "markdown",
   "metadata": {},
   "source": [
    "<h1>Archivar</h1>\n",
    "<p>A continuacion se guardaran los datos recopilados en un historial para posibles observaciones</p>"
   ]
  },
  {
   "cell_type": "code",
   "execution_count": 46,
   "metadata": {},
   "outputs": [],
   "source": [
    "with open('simplenn_history.txt', 'wb') as file_pi:  \n",
    "  pickle.dump(snn.history, file_pi)"
   ]
  },
  {
   "cell_type": "code",
   "execution_count": 57,
   "metadata": {},
   "outputs": [],
   "source": [
    "f = open('Resultados.txt','w')\n",
    "for k in snn_predicted:\n",
    "    f.write('Clase de la imagen {}: '.format(k) + str(np.argmax(y_test[k]))+'\\n'+'Prediccion:         ' + str(snn_predicted[k])+'\\n')\n",
    "f.close()"
   ]
  }
 ],
 "metadata": {
  "kernelspec": {
   "display_name": "Python 3",
   "language": "python",
   "name": "python3"
  },
  "language_info": {
   "codemirror_mode": {
    "name": "ipython",
    "version": 3
   },
   "file_extension": ".py",
   "mimetype": "text/x-python",
   "name": "python",
   "nbconvert_exporter": "python",
   "pygments_lexer": "ipython3",
   "version": "3.6.8"
  }
 },
 "nbformat": 4,
 "nbformat_minor": 2
}
